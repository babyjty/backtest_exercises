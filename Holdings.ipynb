{
 "cells": [
  {
   "cell_type": "markdown",
   "id": "c010b1c2",
   "metadata": {},
   "source": [
    "## Using stock holding data, write a VBA and Python code to calculate holdings by sector for a 50/30/20 portfolio with iShares Core S&P 500 UCITS ETF, iShares MSCI EAFE ETF and Invesco QQQ."
   ]
  },
  {
   "cell_type": "code",
   "execution_count": 2,
   "id": "f5cc10f0",
   "metadata": {},
   "outputs": [],
   "source": [
    "import yfinance as yf"
   ]
  },
  {
   "cell_type": "code",
   "execution_count": 29,
   "id": "5e959403",
   "metadata": {},
   "outputs": [
    {
     "name": "stdout",
     "output_type": "stream",
     "text": [
      "SPY\n",
      "[{'realestate': 0.0257}, {'consumer_cyclical': 0.12}, {'basic_materials': 0.0227}, {'consumer_defensive': 0.063200004}, {'technology': 0.24219999}, {'communication_services': 0.1114}, {'financial_services': 0.1423}, {'utilities': 0.024500001}, {'industrials': 0.088599995}, {'energy': 0.0286}, {'healthcare': 0.1309}]\n",
      " \n",
      "EFA\n",
      "[{'realestate': 0.0295}, {'consumer_cyclical': 0.1102}, {'basic_materials': 0.0779}, {'consumer_defensive': 0.1024}, {'technology': 0.1029}, {'communication_services': 0.057800002}, {'financial_services': 0.1668}, {'utilities': 0.033800002}, {'industrials': 0.1532}, {'energy': 0.033099998}, {'healthcare': 0.13239999}]\n",
      " \n",
      "QQQ\n",
      "[{'realestate': 0}, {'consumer_cyclical': 0.16430001}, {'basic_materials': 0}, {'consumer_defensive': 0.045500003}, {'technology': 0.4571}, {'communication_services': 0.1965}, {'financial_services': 0.023}, {'utilities': 0.0088}, {'industrials': 0.036199998}, {'energy': 0}, {'healthcare': 0.0688}]\n"
     ]
    }
   ],
   "source": [
    "#quick check to see if consistent across assets\n",
    "a = yf.Ticker(\"SPY\")\n",
    "b = yf.Ticker(\"EFA\")\n",
    "c = yf.Ticker(\"QQQ\")\n",
    "print(\"SPY\")\n",
    "print(a.info['sectorWeightings'])\n",
    "print(\" \")\n",
    "print(\"EFA\")\n",
    "print(b.info['sectorWeightings'])\n",
    "print(\" \")\n",
    "print(\"QQQ\")\n",
    "print(c.info['sectorWeightings'])"
   ]
  },
  {
   "cell_type": "code",
   "execution_count": 30,
   "id": "b04dadde",
   "metadata": {},
   "outputs": [],
   "source": [
    "portfolio_allocation = [['SPY',50],['EFA',30],['QQQ',20]]\n",
    "\n",
    "holdings_by_sector = {}\n",
    "for each in portfolio_allocation:\n",
    "    etf = each[0]\n",
    "    allocation = each[1] / 100\n",
    "    ticker = yf.Ticker(etf)\n",
    "    sector_weightings = ticker.info['sectorWeightings']\n",
    "    for sector in sector_weightings:\n",
    "        for key, value in sector.items():\n",
    "            if key not in holdings_by_sector:\n",
    "                holdings_by_sector[key] = allocation * value\n",
    "            else:\n",
    "                current_weight = holdings_by_sector[key]\n",
    "                new_weight = current_weight + allocation * value\n",
    "                holdings_by_sector[key] = new_weight"
   ]
  },
  {
   "cell_type": "code",
   "execution_count": 31,
   "id": "ca7f0f14",
   "metadata": {},
   "outputs": [
    {
     "name": "stdout",
     "output_type": "stream",
     "text": [
      "1.0000899948000002\n"
     ]
    }
   ],
   "source": [
    "# check if sum to 1\n",
    "total = 0\n",
    "for key, value in holdings_by_sector.items():\n",
    "    total += value\n",
    "    \n",
    "print(total)"
   ]
  },
  {
   "cell_type": "code",
   "execution_count": 32,
   "id": "a16f403e",
   "metadata": {},
   "outputs": [
    {
     "name": "stdout",
     "output_type": "stream",
     "text": [
      "SECTOR                        WEIGHTAGE \n",
      "----------------------------------------\n",
      "realestate                    2.17%     \n",
      "utilities                     2.42%     \n",
      "energy                        2.42%     \n",
      "basic_materials               3.47%     \n",
      "consumer_defensive            7.14%     \n",
      "industrials                   9.75%     \n",
      "communication_services        11.23%    \n",
      "healthcare                    11.89%    \n",
      "financial_services            12.58%    \n",
      "consumer_cyclical             12.59%    \n",
      "technology                    24.34%    \n"
     ]
    }
   ],
   "source": [
    "print(f\"{'SECTOR':<30}{'WEIGHTAGE':<10}\")\n",
    "print(\"----------------------------------------\")\n",
    "holdings_by_sector = dict(sorted(holdings_by_sector.items(), key=lambda item: item[1]))\n",
    "for key, value in holdings_by_sector.items():\n",
    "    weightage = \"{:.2%}\".format(value)\n",
    "    print(f\"{key:<30}{weightage:<10}\")"
   ]
  }
 ],
 "metadata": {
  "kernelspec": {
   "display_name": "Python 3 (ipykernel)",
   "language": "python",
   "name": "python3"
  },
  "language_info": {
   "codemirror_mode": {
    "name": "ipython",
    "version": 3
   },
   "file_extension": ".py",
   "mimetype": "text/x-python",
   "name": "python",
   "nbconvert_exporter": "python",
   "pygments_lexer": "ipython3",
   "version": "3.9.9"
  }
 },
 "nbformat": 4,
 "nbformat_minor": 5
}
